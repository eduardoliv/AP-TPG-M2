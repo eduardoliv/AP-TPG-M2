{
 "cells": [
  {
   "cell_type": "markdown",
   "id": "a0380654",
   "metadata": {},
   "source": [
    "# Avaliação Automatizada de Suturas Cirúrgicas com Deep Learning"
   ]
  },
  {
   "cell_type": "markdown",
   "id": "0d0ea741",
   "metadata": {},
   "source": [
    "### Import das Bibliotecas"
   ]
  },
  {
   "cell_type": "code",
   "execution_count": 366,
   "id": "a1fd00cd",
   "metadata": {},
   "outputs": [
    {
     "name": "stdout",
     "output_type": "stream",
     "text": [
      "c:\\Users\\35193\\miniconda3\\envs\\ap_torch\\python.exe\n",
      "2.7.0+cu118\n",
      "True\n"
     ]
    }
   ],
   "source": [
    "import sys\n",
    "print(sys.executable)\n",
    "\n",
    "import torch\n",
    "print(torch.__version__)\n",
    "print(torch.cuda.is_available())"
   ]
  },
  {
   "cell_type": "code",
   "execution_count": 367,
   "id": "78b647ad",
   "metadata": {},
   "outputs": [
    {
     "name": "stdout",
     "output_type": "stream",
     "text": [
      "2.7.0+cu118\n",
      "True\n",
      "NVIDIA GeForce RTX 2060\n"
     ]
    }
   ],
   "source": [
    "import os\n",
    "import numpy as np\n",
    "import pandas as pd\n",
    "import torch\n",
    "print(torch.__version__)\n",
    "print(torch.cuda.is_available())\n",
    "if torch.cuda.is_available():\n",
    "    print(torch.cuda.get_device_name(0))\n",
    "import torch.nn as nn\n",
    "import torch.optim as optim\n",
    "from torch.utils.data import Dataset, DataLoader\n",
    "from sklearn.metrics import f1_score, accuracy_score\n",
    "from sklearn.model_selection import train_test_split\n",
    "from sklearn.preprocessing import StandardScaler"
   ]
  },
  {
   "cell_type": "markdown",
   "id": "b8a19dcb",
   "metadata": {},
   "source": [
    "### Verificar CUDA"
   ]
  },
  {
   "cell_type": "code",
   "execution_count": 368,
   "id": "0eac1c75",
   "metadata": {},
   "outputs": [
    {
     "name": "stdout",
     "output_type": "stream",
     "text": [
      "2.7.0+cu118\n",
      "True\n",
      "NVIDIA GeForce RTX 2060\n"
     ]
    }
   ],
   "source": [
    "device = torch.device(\"cuda\" if torch.cuda.is_available() else \"cpu\")\n",
    "print(torch.__version__)\n",
    "print(torch.cuda.is_available())\n",
    "if torch.cuda.is_available():\n",
    "    print(torch.cuda.get_device_name(0))"
   ]
  },
  {
   "cell_type": "markdown",
   "id": "7e377e83",
   "metadata": {},
   "source": [
    "### Configuração Inicial"
   ]
  },
  {
   "cell_type": "code",
   "execution_count": 369,
   "id": "b6c5d9b3",
   "metadata": {},
   "outputs": [],
   "source": [
    "VIDEO_DIR = r\"../../OSS_dataset/Train/videos\"             # Pasta com vídeos cirúrgicos\n",
    "SAIDA_DIR = r\"frames_limpos_model1\"      # Pasta para guardar o último frame limpo de cada vídeo\n",
    "EXCEL_PATH = r\"../../OSS_dataset/Train/OSATS.xlsx\"    # Excel de classificação\n",
    "CSV_PATH = r\"../../OSS_dataset/Train/OSATS.csv\"\n",
    "FRAME_INTERVAL = 10                            # Ex: 30 = 1 frame por segundo (assumindo 30 fps)\n",
    "FRAME_SIZE = (224, 224)                        # Tamanho padrão para input da CNN\n",
    "\n",
    "os.makedirs(SAIDA_DIR, exist_ok=True)"
   ]
  },
  {
   "cell_type": "markdown",
   "id": "83b78b00",
   "metadata": {},
   "source": [
    "### Dataset PyTorch personalizado"
   ]
  },
  {
   "cell_type": "code",
   "execution_count": 370,
   "id": "6210c5ac",
   "metadata": {},
   "outputs": [],
   "source": [
    "class TabularDataset(Dataset):\n",
    "    def __init__(self, X, y):\n",
    "        self.X = torch.tensor(X.values, dtype=torch.float32)\n",
    "        self.y = torch.tensor(y.values, dtype=torch.float32)\n",
    "\n",
    "    def __len__(self):\n",
    "        return len(self.X)\n",
    "    \n",
    "    def __getitem__(self, idx):\n",
    "        return self.X[idx], self.y[idx]"
   ]
  },
  {
   "cell_type": "markdown",
   "id": "6922ba15",
   "metadata": {},
   "source": [
    "### Carregar dfs do ficheiro csv"
   ]
  },
  {
   "cell_type": "code",
   "execution_count": 371,
   "id": "a02af9b9",
   "metadata": {},
   "outputs": [],
   "source": [
    "# Carregar ficheiros\n",
    "# train_df = pd.read_csv(\"dataframes/train_df.csv\")\n",
    "# test_df = pd.read_csv(\"dataframes/test_df.csv\")\n",
    "\n",
    "train_df = pd.read_csv(\"dataframes_por_inspetor/train_C.csv\")\n",
    "test_df = pd.read_csv(\"dataframes_por_inspetor/test_C.csv\")\n",
    "\n",
    "# Target\n",
    "y_train = train_df[\"GLOBA_RATING_SCORE\"]\n",
    "\n",
    "# Colunas que não devem ser usadas como input (identificadores, alvos, anotações humanas)\n",
    "colunas_a_excluir = [\n",
    "    'video','GLOBA_RATING_SCORE',\n",
    "    'OSATS_RESPECT', 'OSATS_MOTION', 'OSATS_INSTRUMENT', 'OSATS_SUTURE',\n",
    "    'OSATS_FLOW', 'OSATS_KNOWLEDGE', 'OSATS_PERFORMANCE', 'OSATS_FINAL_QUALITY'\n",
    "]\n",
    "\n",
    "# Inferir automaticamente todas as features disponíveis\n",
    "features = [col for col in train_df.columns if col not in colunas_a_excluir]\n",
    "\n",
    "# Normalização\n",
    "temp_X = train_df[features]\n",
    "scaler = StandardScaler()\n",
    "X_train = pd.DataFrame(scaler.fit_transform(temp_X), columns=features)\n",
    "X_test = pd.DataFrame(scaler.transform(test_df[features]), columns=features)\n",
    "\n",
    "# Validação holdout\n",
    "# X_train_part, X_val, y_train_part, y_val = train_test_split(\n",
    "#     X_train, y_train, test_size=0.2, random_state=42)"
   ]
  },
  {
   "cell_type": "markdown",
   "id": "7b9f12c1",
   "metadata": {},
   "source": [
    "### Método para passar de classificação real para classe"
   ]
  },
  {
   "cell_type": "code",
   "execution_count": 372,
   "id": "7af4e80d",
   "metadata": {},
   "outputs": [],
   "source": [
    "# Mapear os valores reais de GRS para classes 0–3\n",
    "\n",
    "def classificar_grs(grs):\n",
    "    if grs <= 15:\n",
    "        return 0\n",
    "    elif grs <= 23:\n",
    "        return 1\n",
    "    elif grs <= 31:\n",
    "        return 2\n",
    "    else:\n",
    "        return 3"
   ]
  },
  {
   "cell_type": "markdown",
   "id": "f4650ed4",
   "metadata": {},
   "source": [
    "# Modelação"
   ]
  },
  {
   "cell_type": "code",
   "execution_count": 373,
   "id": "5f32523e",
   "metadata": {},
   "outputs": [],
   "source": [
    "# # Dataset e dataloaders\n",
    "# train_dataset = TabularDataset(X_train_part, y_train_part)\n",
    "# val_dataset = TabularDataset(X_val, y_val)\n",
    "# train_loader = DataLoader(train_dataset, batch_size=64, shuffle=True)\n",
    "# val_loader = DataLoader(val_dataset, batch_size=64, shuffle=False)\n",
    "\n",
    "train_dataset = TabularDataset(X_train, y_train)\n",
    "train_loader = DataLoader(train_dataset, batch_size=64, shuffle=True)"
   ]
  },
  {
   "cell_type": "markdown",
   "id": "10bc087f",
   "metadata": {},
   "source": [
    "## Modelo MLP para regressão"
   ]
  },
  {
   "cell_type": "code",
   "execution_count": 374,
   "id": "986f7f9f",
   "metadata": {},
   "outputs": [],
   "source": [
    "# Modelo MLP para regressão\n",
    "class MLPRegressor(nn.Module):\n",
    "    def __init__(self, input_size, hidden_sizes=[128, 64]):\n",
    "        super(MLPRegressor, self).__init__()\n",
    "        self.network = nn.Sequential(\n",
    "            nn.Linear(input_size, hidden_sizes[0]),\n",
    "            nn.ReLU(),\n",
    "            nn.Dropout(0.2),\n",
    "            nn.Linear(hidden_sizes[0], hidden_sizes[1]),\n",
    "            nn.ReLU(),\n",
    "            nn.Dropout(0.2),\n",
    "            nn.Linear(hidden_sizes[1], 1)  # regressão\n",
    "        )\n",
    "\n",
    "    def forward(self, x):\n",
    "        return self.network(x).squeeze()\n",
    "\n",
    "model = MLPRegressor(input_size=X_train.shape[1])\n",
    "# criterion = nn.MSELoss()\n",
    "criterion = nn.SmoothL1Loss()\n",
    "optimizer = optim.Adam(model.parameters(), lr=0.001)"
   ]
  },
  {
   "cell_type": "markdown",
   "id": "a464c067",
   "metadata": {},
   "source": [
    "### Treino com validação"
   ]
  },
  {
   "cell_type": "code",
   "execution_count": 375,
   "id": "717e8f06",
   "metadata": {},
   "outputs": [
    {
     "name": "stdout",
     "output_type": "stream",
     "text": [
      "Epoch 1, Loss: 69.1822\n",
      "Epoch 2, Loss: 67.7172\n",
      "Epoch 3, Loss: 65.2037\n",
      "Epoch 4, Loss: 64.7559\n",
      "Epoch 5, Loss: 62.0965\n",
      "Epoch 6, Loss: 61.1170\n",
      "Epoch 7, Loss: 56.8387\n",
      "Epoch 8, Loss: 53.1097\n",
      "Epoch 9, Loss: 47.5896\n",
      "Epoch 10, Loss: 42.3903\n"
     ]
    }
   ],
   "source": [
    "model.train()\n",
    "for epoch in range(10):  # ajusta conforme necessário\n",
    "    total_loss = 0\n",
    "    for inputs, targets in train_loader:\n",
    "        optimizer.zero_grad()\n",
    "        outputs = model(inputs)\n",
    "        loss = criterion(outputs, targets)\n",
    "        loss.backward()\n",
    "        optimizer.step()\n",
    "        total_loss += loss.item()\n",
    "    print(f\"Epoch {epoch+1}, Loss: {total_loss:.4f}\")"
   ]
  },
  {
   "cell_type": "markdown",
   "id": "94b8adce",
   "metadata": {},
   "source": [
    "### Fazer previsões"
   ]
  },
  {
   "cell_type": "code",
   "execution_count": 376,
   "id": "88a89d78",
   "metadata": {},
   "outputs": [],
   "source": [
    "X_test_tensor = torch.tensor(X_test.values, dtype=torch.float32)\n",
    "model.eval()\n",
    "with torch.no_grad():\n",
    "    preds = model(X_test_tensor).numpy()\n",
    "\n",
    "# Clip para [8, 40]\n",
    "grs_pred_val = np.clip(preds, 8, 40)\n",
    "\n",
    "grs_pred_classe = [classificar_grs(v) for v in grs_pred_val]"
   ]
  },
  {
   "cell_type": "markdown",
   "id": "aea74c78",
   "metadata": {},
   "source": [
    "### Gerar csv de submissão"
   ]
  },
  {
   "cell_type": "code",
   "execution_count": 377,
   "id": "2165d1e0",
   "metadata": {},
   "outputs": [
    {
     "name": "stdout",
     "output_type": "stream",
     "text": [
      "✅ CSV gerado: task1_predicoes_mlp_reg.csv\n"
     ]
    }
   ],
   "source": [
    "df_submissao = pd.DataFrame({\n",
    "    'VIDEO': test_df['video'],\n",
    "    'GRS': grs_pred_classe\n",
    "})\n",
    "df_submissao.to_csv(\"task1_predicoes_mlp_reg.csv\", index=False)\n",
    "print(\"✅ CSV gerado: task1_predicoes_mlp_reg.csv\")"
   ]
  },
  {
   "cell_type": "markdown",
   "id": "d2b7be56",
   "metadata": {},
   "source": [
    "### Avaliar Modelo"
   ]
  },
  {
   "cell_type": "code",
   "execution_count": 378,
   "id": "462b75fd",
   "metadata": {},
   "outputs": [
    {
     "name": "stdout",
     "output_type": "stream",
     "text": [
      "📊 Avaliação baseada nas anotações reais (média por vídeo):\n",
      "🎯 F1-Score (macro): 0.1230\n",
      "📈 Accuracy: 0.3263\n",
      "💸 Expected Cost: 1.2421\n"
     ]
    }
   ],
   "source": [
    "df_osats = pd.read_csv(CSV_PATH, sep=';')\n",
    "df_media_grs = df_osats.groupby(\"VIDEO\")[\"GLOBA_RATING_SCORE\"].mean().reset_index()\n",
    "df_media_grs.rename(columns={\"GLOBA_RATING_SCORE\": \"GRS_REAL\"}, inplace=True)\n",
    "df_pred = pd.read_csv(\"task1_predicoes_mlp_reg.csv\")\n",
    "df_avaliacao = pd.merge(df_pred, df_media_grs, on=\"VIDEO\", how=\"inner\")\n",
    "\n",
    "df_avaliacao[\"GRS_REAL_CLASS\"] = df_avaliacao[\"GRS_REAL\"].apply(classificar_grs)\n",
    "df_avaliacao[\"GRS_PRED_CLASS\"] = df_avaliacao[\"GRS\"]\n",
    "\n",
    "y_true = df_avaliacao[\"GRS_REAL_CLASS\"]\n",
    "y_pred = df_avaliacao[\"GRS_PRED_CLASS\"]\n",
    "\n",
    "f1 = f1_score(y_true, y_pred, average='macro')\n",
    "acc = accuracy_score(y_true, y_pred)\n",
    "cost = np.mean(np.abs(y_true - y_pred))\n",
    "\n",
    "print(\"📊 Avaliação baseada nas anotações reais (média por vídeo):\")\n",
    "print(f\"🎯 F1-Score (macro): {f1:.4f}\")\n",
    "print(f\"📈 Accuracy: {acc:.4f}\")\n",
    "print(f\"💸 Expected Cost: {cost:.4f}\")\n"
   ]
  },
  {
   "cell_type": "markdown",
   "id": "ad465648",
   "metadata": {},
   "source": [
    "## Modelo MLP mais complexo"
   ]
  },
  {
   "cell_type": "code",
   "execution_count": 379,
   "id": "33526b3d",
   "metadata": {},
   "outputs": [],
   "source": [
    "class MLPRegressor(nn.Module):\n",
    "    def __init__(self, input_size):\n",
    "        super(MLPRegressor, self).__init__()\n",
    "        self.network = nn.Sequential(\n",
    "            nn.Linear(input_size, 256),\n",
    "            nn.BatchNorm1d(256),\n",
    "            nn.ReLU(),\n",
    "            nn.Dropout(0.3),\n",
    "            nn.Linear(256, 128),\n",
    "            nn.BatchNorm1d(128),\n",
    "            nn.ReLU(),\n",
    "            nn.Dropout(0.3),\n",
    "            nn.Linear(128, 64),\n",
    "            nn.ReLU(),\n",
    "            nn.Linear(64, 1)\n",
    "        )\n",
    "\n",
    "    def forward(self, x):\n",
    "        return self.network(x).squeeze()"
   ]
  },
  {
   "cell_type": "markdown",
   "id": "3c45bab0",
   "metadata": {},
   "source": [
    "### Treinar durante mais épocas com early stopping"
   ]
  },
  {
   "cell_type": "code",
   "execution_count": 380,
   "id": "3f03c590",
   "metadata": {},
   "outputs": [
    {
     "name": "stdout",
     "output_type": "stream",
     "text": [
      "Epoch 1, Loss: 36.4587\n",
      "Epoch 2, Loss: 30.1844\n",
      "Epoch 3, Loss: 24.3135\n",
      "Epoch 4, Loss: 22.4631\n",
      "Epoch 5, Loss: 20.2439\n",
      "Epoch 6, Loss: 17.7867\n",
      "Epoch 7, Loss: 15.8951\n",
      "Epoch 8, Loss: 15.1653\n",
      "Epoch 9, Loss: 12.8141\n",
      "Epoch 10, Loss: 12.2422\n",
      "Epoch 11, Loss: 10.6552\n",
      "Epoch 12, Loss: 10.8403\n",
      "Epoch 13, Loss: 8.5511\n",
      "Epoch 14, Loss: 9.4721\n",
      "Epoch 15, Loss: 8.8070\n",
      "Epoch 16, Loss: 8.9243\n",
      "Epoch 17, Loss: 7.6299\n",
      "Epoch 18, Loss: 8.7338\n",
      "Epoch 19, Loss: 8.0635\n",
      "Epoch 20, Loss: 9.4353\n",
      "Epoch 21, Loss: 8.1003\n",
      "Epoch 22, Loss: 7.3670\n",
      "Epoch 23, Loss: 8.1157\n",
      "Epoch 24, Loss: 8.2070\n",
      "Epoch 25, Loss: 6.9734\n",
      "Epoch 26, Loss: 7.1878\n",
      "Epoch 27, Loss: 7.4072\n",
      "Epoch 28, Loss: 7.1977\n",
      "Epoch 29, Loss: 7.8427\n",
      "Epoch 30, Loss: 8.7588\n",
      "Epoch 31, Loss: 7.1717\n",
      "Epoch 32, Loss: 7.5988\n",
      "Epoch 33, Loss: 6.5959\n",
      "Epoch 34, Loss: 7.6922\n",
      "Epoch 35, Loss: 6.5979\n",
      "Epoch 36, Loss: 6.5502\n",
      "Epoch 37, Loss: 6.9044\n",
      "Epoch 38, Loss: 8.4817\n",
      "Epoch 39, Loss: 7.4474\n",
      "Epoch 40, Loss: 6.4347\n",
      "Epoch 41, Loss: 7.3064\n",
      "Epoch 42, Loss: 6.5341\n",
      "Epoch 43, Loss: 6.7157\n",
      "Epoch 44, Loss: 7.8976\n",
      "Epoch 45, Loss: 6.6590\n",
      "Epoch 46, Loss: 6.8980\n",
      "Epoch 47, Loss: 7.0337\n",
      "Epoch 48, Loss: 6.2757\n",
      "Epoch 49, Loss: 6.5832\n",
      "Epoch 50, Loss: 6.4429\n",
      "Epoch 51, Loss: 6.6077\n",
      "Epoch 52, Loss: 6.1402\n",
      "Epoch 53, Loss: 6.0320\n",
      "Epoch 54, Loss: 6.3253\n",
      "Epoch 55, Loss: 6.5400\n",
      "Epoch 56, Loss: 6.9587\n",
      "Epoch 57, Loss: 6.6281\n",
      "Epoch 58, Loss: 6.5016\n",
      "Epoch 59, Loss: 6.3374\n",
      "Epoch 60, Loss: 6.1656\n",
      "Epoch 61, Loss: 6.5016\n",
      "Epoch 62, Loss: 7.0191\n",
      "Epoch 63, Loss: 6.3765\n",
      "Epoch 64, Loss: 6.2462\n",
      "Epoch 65, Loss: 5.8696\n",
      "Epoch 66, Loss: 5.9630\n",
      "Epoch 67, Loss: 6.5707\n",
      "Epoch 68, Loss: 6.7917\n",
      "Epoch 69, Loss: 6.2823\n",
      "Epoch 70, Loss: 5.3888\n",
      "Epoch 71, Loss: 6.3399\n",
      "Epoch 72, Loss: 4.9992\n",
      "Epoch 73, Loss: 5.0120\n",
      "Epoch 74, Loss: 5.9347\n",
      "Epoch 75, Loss: 5.9466\n",
      "Epoch 76, Loss: 6.5425\n",
      "Epoch 77, Loss: 6.3120\n",
      "Epoch 78, Loss: 6.0249\n",
      "Epoch 79, Loss: 5.9096\n",
      "Epoch 80, Loss: 6.3883\n",
      "Epoch 81, Loss: 5.6069\n",
      "Epoch 82, Loss: 5.3607\n",
      "Epoch 83, Loss: 5.4874\n",
      "Epoch 84, Loss: 6.1500\n",
      "Epoch 85, Loss: 6.3500\n",
      "Epoch 86, Loss: 6.6495\n",
      "Epoch 87, Loss: 6.3693\n",
      "Epoch 88, Loss: 5.8614\n",
      "Epoch 89, Loss: 6.4990\n",
      "Epoch 90, Loss: 5.4174\n",
      "Epoch 91, Loss: 5.1221\n",
      "Epoch 92, Loss: 6.0619\n",
      "Epoch 93, Loss: 5.2836\n",
      "Epoch 94, Loss: 5.4347\n",
      "Epoch 95, Loss: 5.9056\n",
      "Epoch 96, Loss: 6.0496\n",
      "Epoch 97, Loss: 6.1960\n",
      "Epoch 98, Loss: 5.8624\n",
      "Epoch 99, Loss: 5.1263\n",
      "Epoch 100, Loss: 5.5253\n"
     ]
    }
   ],
   "source": [
    "best_loss = float('inf') \n",
    "\n",
    "model.train()\n",
    "for epoch in range(100):  # ajusta conforme necessário\n",
    "    total_loss = 0\n",
    "    for inputs, targets in train_loader:\n",
    "        targets = targets.squeeze() \n",
    "        optimizer.zero_grad()\n",
    "        outputs = model(inputs)\n",
    "        loss = criterion(outputs, targets)\n",
    "        loss.backward()\n",
    "        optimizer.step()\n",
    "        total_loss += loss.item()\n",
    "    print(f\"Epoch {epoch+1}, Loss: {total_loss:.4f}\")\n",
    "    if total_loss < best_loss:\n",
    "        best_loss = total_loss\n",
    "        torch.save(model.state_dict(), \"best_model1.pt\")\n"
   ]
  },
  {
   "cell_type": "markdown",
   "id": "34c311fa",
   "metadata": {},
   "source": [
    "### Usar melhor modelo para inferência "
   ]
  },
  {
   "cell_type": "code",
   "execution_count": 381,
   "id": "a3f6d569",
   "metadata": {},
   "outputs": [],
   "source": [
    "X_test_tensor = torch.tensor(X_test.values, dtype=torch.float32)\n",
    "model.load_state_dict(torch.load(\"best_model1.pt\"))\n",
    "model.eval()\n",
    "with torch.no_grad():\n",
    "    preds = model(X_test_tensor).numpy()"
   ]
  },
  {
   "cell_type": "markdown",
   "id": "5fedcb8f",
   "metadata": {},
   "source": [
    "### Avaliar Modelo"
   ]
  },
  {
   "cell_type": "code",
   "execution_count": 382,
   "id": "500ed02e",
   "metadata": {},
   "outputs": [
    {
     "name": "stdout",
     "output_type": "stream",
     "text": [
      "✅ CSV gerado: task1_predicoes_mlp2_reg.csv\n",
      "📊 Avaliação baseada nas anotações reais (média por vídeo):\n",
      "🎯 F1-Score (macro): 0.3378\n",
      "📈 Accuracy: 0.4526\n",
      "💸 Expected Cost: 0.6105\n"
     ]
    }
   ],
   "source": [
    "# Clip para [8, 40]\n",
    "grs_pred_val = np.clip(preds, 8, 40)\n",
    "\n",
    "grs_pred_classe = [classificar_grs(v) for v in grs_pred_val]\n",
    "\n",
    "df_submissao = pd.DataFrame({\n",
    "    'VIDEO': test_df['video'],\n",
    "    'GRS': grs_pred_classe\n",
    "})\n",
    "df_submissao.to_csv(\"task1_predicoes_mlp2_reg.csv\", index=False)\n",
    "print(\"✅ CSV gerado: task1_predicoes_mlp2_reg.csv\")\n",
    "\n",
    "df_osats = pd.read_csv(CSV_PATH, sep=';')\n",
    "df_media_grs = df_osats.groupby(\"VIDEO\")[\"GLOBA_RATING_SCORE\"].mean().reset_index()\n",
    "df_media_grs.rename(columns={\"GLOBA_RATING_SCORE\": \"GRS_REAL\"}, inplace=True)\n",
    "df_pred = pd.read_csv(\"task1_predicoes_mlp2_reg.csv\")\n",
    "df_avaliacao = pd.merge(df_pred, df_media_grs, on=\"VIDEO\", how=\"inner\")\n",
    "\n",
    "df_avaliacao[\"GRS_REAL_CLASS\"] = df_avaliacao[\"GRS_REAL\"].apply(classificar_grs)\n",
    "df_avaliacao[\"GRS_PRED_CLASS\"] = df_avaliacao[\"GRS\"]\n",
    "\n",
    "y_true = df_avaliacao[\"GRS_REAL_CLASS\"]\n",
    "y_pred = df_avaliacao[\"GRS_PRED_CLASS\"]\n",
    "\n",
    "f1 = f1_score(y_true, y_pred, average='macro')\n",
    "acc = accuracy_score(y_true, y_pred)\n",
    "cost = np.mean(np.abs(y_true - y_pred))\n",
    "\n",
    "print(\"📊 Avaliação baseada nas anotações reais (média por vídeo):\")\n",
    "print(f\"🎯 F1-Score (macro): {f1:.4f}\")\n",
    "print(f\"📈 Accuracy: {acc:.4f}\")\n",
    "print(f\"💸 Expected Cost: {cost:.4f}\")\n"
   ]
  },
  {
   "cell_type": "code",
   "execution_count": 383,
   "id": "c49ee838",
   "metadata": {},
   "outputs": [],
   "source": [
    "# ✅ CSV gerado: task1_predicoes_mlp2_reg.csv\n",
    "# 📊 Avaliação baseada nas anotações reais (média por vídeo):\n",
    "# 🎯 F1-Score (macro): 0.6662\n",
    "# 📈 Accuracy: 0.7032\n",
    "# 💸 Expected Cost: 0.3004"
   ]
  },
  {
   "cell_type": "markdown",
   "id": "8c63d143",
   "metadata": {},
   "source": [
    "## Modelo MLP otimizado "
   ]
  },
  {
   "cell_type": "code",
   "execution_count": 384,
   "id": "88f38cdb",
   "metadata": {},
   "outputs": [],
   "source": [
    "class MLPRegressor(nn.Module):\n",
    "    def __init__(self, input_size):\n",
    "        super(MLPRegressor, self).__init__()\n",
    "        self.network = nn.Sequential(\n",
    "            nn.Linear(input_size, 256),\n",
    "            nn.BatchNorm1d(256),\n",
    "            nn.ReLU(),\n",
    "            nn.Dropout(0.3),\n",
    "            nn.Linear(256, 128),\n",
    "            nn.BatchNorm1d(128),\n",
    "            nn.ReLU(),\n",
    "            nn.Dropout(0.3),\n",
    "            nn.Linear(128, 64),\n",
    "            nn.ReLU(),\n",
    "            nn.Linear(64, 1)\n",
    "        )\n",
    "    def forward(self, x):\n",
    "        return self.network(x).squeeze()\n",
    "\n",
    "model = MLPRegressor(input_size=X_train.shape[1]).to(device)\n",
    "criterion = nn.SmoothL1Loss()\n",
    "optimizer = optim.Adam(model.parameters(), lr=0.001, weight_decay=1e-5)"
   ]
  },
  {
   "cell_type": "markdown",
   "id": "31828beb",
   "metadata": {},
   "source": [
    "### Treino com validação"
   ]
  },
  {
   "cell_type": "code",
   "execution_count": 385,
   "id": "ab68c649",
   "metadata": {},
   "outputs": [
    {
     "name": "stdout",
     "output_type": "stream",
     "text": [
      "Epoch 1, Loss: 67.7602\n",
      "Epoch 2, Loss: 64.3203\n",
      "Epoch 3, Loss: 63.3486\n",
      "Epoch 4, Loss: 60.0214\n",
      "Epoch 5, Loss: 58.2115\n",
      "Epoch 6, Loss: 55.1215\n",
      "Epoch 7, Loss: 51.4848\n",
      "Epoch 8, Loss: 44.1978\n",
      "Epoch 9, Loss: 41.5949\n",
      "Epoch 10, Loss: 36.2811\n",
      "Epoch 11, Loss: 29.9561\n",
      "Epoch 12, Loss: 25.1380\n",
      "Epoch 13, Loss: 20.9025\n",
      "Epoch 14, Loss: 15.8180\n",
      "Epoch 15, Loss: 13.1460\n",
      "Epoch 16, Loss: 12.4138\n",
      "Epoch 17, Loss: 11.9700\n",
      "Epoch 18, Loss: 11.3955\n",
      "Epoch 19, Loss: 9.5998\n",
      "Epoch 20, Loss: 9.7475\n",
      "Epoch 21, Loss: 11.2690\n",
      "Epoch 22, Loss: 9.8160\n",
      "Epoch 23, Loss: 8.5150\n",
      "Epoch 24, Loss: 8.9882\n",
      "Epoch 25, Loss: 8.5698\n",
      "Epoch 26, Loss: 8.0946\n",
      "Epoch 27, Loss: 7.7505\n",
      "Epoch 28, Loss: 9.7088\n",
      "Epoch 29, Loss: 8.1728\n",
      "Epoch 30, Loss: 7.9086\n",
      "Epoch 31, Loss: 7.6220\n",
      "Epoch 32, Loss: 9.0900\n",
      "Epoch 33, Loss: 7.6221\n",
      "Epoch 34, Loss: 7.6883\n",
      "Epoch 35, Loss: 7.5945\n",
      "Epoch 36, Loss: 7.1809\n",
      "Epoch 37, Loss: 8.6807\n",
      "Epoch 38, Loss: 8.6375\n",
      "Epoch 39, Loss: 8.2227\n",
      "Epoch 40, Loss: 7.1510\n",
      "Epoch 41, Loss: 7.2973\n",
      "Epoch 42, Loss: 7.6233\n",
      "Epoch 43, Loss: 8.4611\n",
      "Epoch 44, Loss: 6.6110\n",
      "Epoch 45, Loss: 6.6944\n",
      "Epoch 46, Loss: 6.4922\n",
      "Epoch 47, Loss: 6.5433\n",
      "Epoch 48, Loss: 6.6369\n",
      "Epoch 49, Loss: 7.8028\n",
      "Epoch 50, Loss: 7.4084\n",
      "Epoch 51, Loss: 7.7089\n",
      "Epoch 52, Loss: 6.9955\n",
      "Epoch 53, Loss: 6.9124\n",
      "Epoch 54, Loss: 6.9643\n",
      "Epoch 55, Loss: 5.9887\n",
      "Epoch 56, Loss: 7.3870\n",
      "Epoch 57, Loss: 6.4422\n",
      "Epoch 58, Loss: 6.6650\n",
      "Epoch 59, Loss: 7.1684\n",
      "Epoch 60, Loss: 6.6566\n",
      "Epoch 61, Loss: 6.5508\n",
      "Epoch 62, Loss: 7.5095\n",
      "Epoch 63, Loss: 6.7500\n",
      "Epoch 64, Loss: 6.0845\n",
      "Epoch 65, Loss: 7.4428\n",
      "Epoch 66, Loss: 6.3953\n",
      "Epoch 67, Loss: 6.8196\n",
      "Epoch 68, Loss: 5.9355\n",
      "Epoch 69, Loss: 5.8764\n",
      "Epoch 70, Loss: 5.7624\n",
      "Epoch 71, Loss: 6.7588\n",
      "Epoch 72, Loss: 5.7369\n",
      "Epoch 73, Loss: 7.2456\n",
      "Epoch 74, Loss: 7.0915\n",
      "Epoch 75, Loss: 5.7107\n",
      "Epoch 76, Loss: 6.1146\n",
      "Epoch 77, Loss: 6.9899\n",
      "Epoch 78, Loss: 6.4289\n",
      "Epoch 79, Loss: 6.4512\n",
      "Epoch 80, Loss: 6.6800\n",
      "Epoch 81, Loss: 5.5241\n",
      "Epoch 82, Loss: 7.3824\n",
      "Epoch 83, Loss: 5.0766\n",
      "Epoch 84, Loss: 7.7948\n",
      "Epoch 85, Loss: 5.9207\n",
      "Epoch 86, Loss: 5.6839\n",
      "Epoch 87, Loss: 6.8894\n",
      "Epoch 88, Loss: 5.2113\n",
      "Epoch 89, Loss: 5.8110\n",
      "Epoch 90, Loss: 5.0032\n",
      "Epoch 91, Loss: 6.4662\n",
      "Epoch 92, Loss: 5.9580\n",
      "Epoch 93, Loss: 6.3030\n",
      "Epoch 94, Loss: 5.9623\n",
      "Epoch 95, Loss: 5.4867\n",
      "Epoch 96, Loss: 5.7742\n",
      "Epoch 97, Loss: 6.1898\n",
      "Epoch 98, Loss: 6.1971\n",
      "Epoch 99, Loss: 5.4149\n",
      "Epoch 100, Loss: 6.6698\n"
     ]
    }
   ],
   "source": [
    "best_loss = float('inf')\n",
    "model.train()\n",
    "for epoch in range(100):\n",
    "    total_loss = 0\n",
    "    for inputs, targets in train_loader:\n",
    "        inputs, targets = inputs.to(device), targets.to(device)\n",
    "        targets = targets.squeeze()\n",
    "        optimizer.zero_grad()\n",
    "        outputs = model(inputs)\n",
    "        loss = criterion(outputs, targets)\n",
    "        loss.backward()\n",
    "        optimizer.step()\n",
    "        total_loss += loss.item()\n",
    "    print(f\"Epoch {epoch+1}, Loss: {total_loss:.4f}\")\n",
    "    if total_loss < best_loss:\n",
    "        best_loss = total_loss\n",
    "        torch.save(model.state_dict(), \"best_model2.pt\")\n"
   ]
  },
  {
   "cell_type": "markdown",
   "id": "e19d3f88",
   "metadata": {},
   "source": [
    "### Previsão"
   ]
  },
  {
   "cell_type": "code",
   "execution_count": 386,
   "id": "b8db44e2",
   "metadata": {},
   "outputs": [],
   "source": [
    "model.load_state_dict(torch.load(\"best_model2.pt\"))\n",
    "model.eval()\n",
    "X_test_tensor = torch.tensor(X_test.values, dtype=torch.float32).to(device)\n",
    "with torch.no_grad():\n",
    "    preds = model(X_test_tensor).cpu().numpy()\n",
    "\n",
    "grss = np.clip(preds, 8, 40)\n",
    "grss_classe = [classificar_grs(v) for v in grss]"
   ]
  },
  {
   "cell_type": "markdown",
   "id": "2a1537d1",
   "metadata": {},
   "source": [
    "### Guardar em csv"
   ]
  },
  {
   "cell_type": "code",
   "execution_count": 387,
   "id": "d7996a6a",
   "metadata": {},
   "outputs": [
    {
     "name": "stdout",
     "output_type": "stream",
     "text": [
      "✅ CSV gerado: task1_predicoes_mlp_final.csv\n"
     ]
    }
   ],
   "source": [
    "sub = pd.DataFrame({\"VIDEO\": test_df[\"video\"], \"GRS\": grss_classe})\n",
    "sub.to_csv(\"task1_predicoes_mlp_final.csv\", index=False)\n",
    "print(\"✅ CSV gerado: task1_predicoes_mlp_final.csv\")"
   ]
  },
  {
   "cell_type": "markdown",
   "id": "ee69f396",
   "metadata": {},
   "source": [
    "### Avaliação"
   ]
  },
  {
   "cell_type": "code",
   "execution_count": 388,
   "id": "0850c353",
   "metadata": {},
   "outputs": [
    {
     "name": "stdout",
     "output_type": "stream",
     "text": [
      "\n",
      "📊 Avaliação com modelo final confirmado:\n",
      "🎯 F1-Score (macro): 0.3042\n",
      "📈 Accuracy: 0.4526\n",
      "💸 Expected Cost: 0.7579\n"
     ]
    }
   ],
   "source": [
    "df_osats = pd.read_csv(CSV_PATH, sep=';')\n",
    "df_media_grs = df_osats.groupby(\"VIDEO\")[\"GLOBA_RATING_SCORE\"].mean().reset_index()\n",
    "df_media_grs.rename(columns={\"GLOBA_RATING_SCORE\": \"GRS_REAL\"}, inplace=True)\n",
    "df_pred = sub\n",
    "\n",
    "df_avaliacao = pd.merge(df_pred, df_media_grs, on=\"VIDEO\", how=\"inner\")\n",
    "df_avaliacao[\"GRS_REAL_CLASS\"] = df_avaliacao[\"GRS_REAL\"].apply(classificar_grs)\n",
    "df_avaliacao[\"GRS_PRED_CLASS\"] = df_avaliacao[\"GRS\"]\n",
    "\n",
    "y_true = df_avaliacao[\"GRS_REAL_CLASS\"]\n",
    "y_pred = df_avaliacao[\"GRS_PRED_CLASS\"]\n",
    "\n",
    "f1 = f1_score(y_true, y_pred, average='macro')\n",
    "acc = accuracy_score(y_true, y_pred)\n",
    "cost = np.mean(np.abs(y_true - y_pred))\n",
    "\n",
    "print(\"\\n📊 Avaliação com modelo final confirmado:\")\n",
    "print(f\"🎯 F1-Score (macro): {f1:.4f}\")\n",
    "print(f\"📈 Accuracy: {acc:.4f}\")\n",
    "print(f\"💸 Expected Cost: {cost:.4f}\")\n"
   ]
  },
  {
   "cell_type": "markdown",
   "id": "b99acb94",
   "metadata": {},
   "source": [
    "## Tabela comparativa entre modelos e datasets"
   ]
  },
  {
   "cell_type": "code",
   "execution_count": 389,
   "id": "7d09b224",
   "metadata": {},
   "outputs": [
    {
     "name": "stdout",
     "output_type": "stream",
     "text": [
      "modelo                                   geral                                       A                                       B                                       C\n",
      "  MLP1 F1: 0.5748 | Acc: 0.6396 | Cost: 0.3675 F1: 0.1289 | Acc: 0.3474 | Cost: 1.2211 F1: 0.1289 | Acc: 0.3474 | Cost: 1.2211 F1: 0.1260 | Acc: 0.3368 | Cost: 1.2316\n",
      "  MLP2 F1: 0.6662 | Acc: 0.7032 | Cost: 0.3004 F1: 0.4393 | Acc: 0.4632 | Cost: 0.5895 F1: 0.4973 | Acc: 0.5789 | Cost: 0.4947 F1: 0.4431 | Acc: 0.4737 | Cost: 0.5895\n",
      "  MLP3 F1: 0.5975 | Acc: 0.6608 | Cost: 0.3428 F1: 0.4013 | Acc: 0.5053 | Cost: 0.6632 F1: 0.4572 | Acc: 0.4316 | Cost: 0.6105 F1: 0.4431 | Acc: 0.4737 | Cost: 0.5895\n"
     ]
    }
   ],
   "source": [
    "import pandas as pd\n",
    "\n",
    "# Tabela de resultados completa (geral + A + B + C)\n",
    "resultados = [\n",
    "    {\"modelo\": \"MLP1\", \n",
    "     \"geral\": \"F1: 0.5748 | Acc: 0.6396 | Cost: 0.3675\", \n",
    "     \"A\": \"F1: 0.1289 | Acc: 0.3474 | Cost: 1.2211\", \n",
    "     \"B\": \"F1: 0.1289 | Acc: 0.3474 | Cost: 1.2211\", \n",
    "     \"C\": \"F1: 0.1260 | Acc: 0.3368 | Cost: 1.2316\"},\n",
    "     \n",
    "    {\"modelo\": \"MLP2\", \n",
    "     \"geral\": \"F1: 0.6662 | Acc: 0.7032 | Cost: 0.3004\", \n",
    "     \"A\": \"F1: 0.4393 | Acc: 0.4632 | Cost: 0.5895\", \n",
    "     \"B\": \"F1: 0.4973 | Acc: 0.5789 | Cost: 0.4947\", \n",
    "     \"C\": \"F1: 0.4431 | Acc: 0.4737 | Cost: 0.5895\"},\n",
    "     \n",
    "    {\"modelo\": \"MLP3\", \n",
    "     \"geral\": \"F1: 0.5975 | Acc: 0.6608 | Cost: 0.3428\", \n",
    "     \"A\": \"F1: 0.4013 | Acc: 0.5053 | Cost: 0.6632\", \n",
    "     \"B\": \"F1: 0.4572 | Acc: 0.4316 | Cost: 0.6105\", \n",
    "     \"C\": \"F1: 0.4431 | Acc: 0.4737 | Cost: 0.5895\"},\n",
    "]\n",
    "\n",
    "df = pd.DataFrame(resultados)\n",
    "print(df.to_string(index=False))\n"
   ]
  }
 ],
 "metadata": {
  "kernelspec": {
   "display_name": "ap_torch",
   "language": "python",
   "name": "python3"
  },
  "language_info": {
   "codemirror_mode": {
    "name": "ipython",
    "version": 3
   },
   "file_extension": ".py",
   "mimetype": "text/x-python",
   "name": "python",
   "nbconvert_exporter": "python",
   "pygments_lexer": "ipython3",
   "version": "3.9.21"
  }
 },
 "nbformat": 4,
 "nbformat_minor": 5
}
